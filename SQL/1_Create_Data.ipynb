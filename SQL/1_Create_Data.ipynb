{
 "cells": [
  {
   "cell_type": "code",
   "execution_count": 2,
   "id": "43aba55d-1383-4594-9b1c-4cec7962b7da",
   "metadata": {},
   "outputs": [],
   "source": [
    "import pandas as pd\n",
    "import random\n",
    "from faker import Faker\n",
    "from datetime import datetime, timedelta\n",
    "\n",
    "# Initialize Faker and set seed for reproducibility\n",
    "fake = Faker()\n",
    "Faker.seed(0)\n",
    "random.seed(0)\n",
    "\n",
    "# Define product categories and sample products for variety\n",
    "categories = [\"Electronics\", \"Clothing\", \"Home Appliances\", \"Books\", \"Beauty\", \"Toys\"]\n",
    "products = {\n",
    "    \"Electronics\": [\"Laptop\", \"Smartphone\", \"Tablet\", \"Headphones\", \"Smartwatch\"],\n",
    "    \"Clothing\": [\"T-shirt\", \"Jeans\", \"Jacket\", \"Sneakers\", \"Dress\"],\n",
    "    \"Home Appliances\": [\"Blender\", \"Microwave\", \"Vacuum Cleaner\", \"Refrigerator\", \"Air Conditioner\"],\n",
    "    \"Books\": [\"Fiction\", \"Non-Fiction\", \"Science\", \"Biography\", \"Children\"],\n",
    "    \"Beauty\": [\"Lipstick\", \"Perfume\", \"Moisturizer\", \"Facewash\", \"Shampoo\"],\n",
    "    \"Toys\": [\"Puzzle\", \"Lego Set\", \"Doll\", \"Toy Car\", \"Board Game\"]\n",
    "}\n",
    "\n",
    "# Define order status and payment method distributions\n",
    "order_status_dist = [\"Delivered\", \"Shipped\", \"Canceled\"]\n",
    "payment_method_dist = [\"Credit Card\", \"PayPal\", \"Cash\"]"
   ]
  },
  {
   "cell_type": "code",
   "execution_count": 4,
   "id": "061d282f-0ece-41fa-9161-9e116549afac",
   "metadata": {},
   "outputs": [],
   "source": [
    "# Generate the data\n",
    "data = []\n",
    "for i in range(1000):\n",
    "    order_id = f\"ORD{str(i).zfill(7)}\"\n",
    "    customer_id = f\"CUST{random.randint(1, 2000):04d}\"\n",
    "    customer_name = fake.name()\n",
    "    order_date = fake.date_between(start_date='-1y', end_date='today')\n",
    "    \n",
    "    # Randomly select product details based on category\n",
    "    category = random.choice(categories)\n",
    "    product_name = random.choice(products[category])\n",
    "    product_id = f\"PROD{random.randint(1, 500):04d}\"\n",
    "    quantity = random.choices([1, 2, 3, 4, 5, 6, 7, 8, 9, 10], weights=[30, 25, 15, 10, 7, 5, 3, 2, 2, 1])[0]\n",
    "    price = round(random.gauss(100, 50), 2)  # Normally distributed price around $100\n",
    "    total_amount = round(quantity * price, 2)\n",
    "    order_status = random.choices(order_status_dist, weights=[70, 20, 10])[0]\n",
    "    payment_method = random.choices(payment_method_dist, weights=[50, 30, 20])[0]\n",
    "    shipping_address = fake.address().replace(\"\\n\", \", \")\n",
    "\n",
    "    # Append to data list\n",
    "    data.append([\n",
    "        order_id, customer_id, customer_name, order_date, product_id,\n",
    "        product_name, quantity, price, total_amount, category,\n",
    "        order_status, payment_method, shipping_address\n",
    "    ])"
   ]
  },
  {
   "cell_type": "code",
   "execution_count": 6,
   "id": "74f4db45-a720-4acf-94ed-6d1770836e47",
   "metadata": {},
   "outputs": [],
   "source": [
    "# Create DataFrame\n",
    "columns = [\n",
    "    \"OrderID\", \"CustomerID\", \"CustomerName\", \"OrderDate\", \"ProductID\",\n",
    "    \"ProductName\", \"Quantity\", \"Price\", \"TotalAmount\", \"Category\",\n",
    "    \"OrderStatus\", \"PaymentMethod\", \"ShippingAddress\"\n",
    "]\n",
    "df = pd.DataFrame(data, columns=columns)\n",
    "\n",
    "# Save to CSV for uploading to SQL if needed\n",
    "df.to_csv('eCommerceOrders.csv', index=False)"
   ]
  },
  {
   "cell_type": "code",
   "execution_count": null,
   "id": "406da58b-88e5-4986-8746-486fcd6503d2",
   "metadata": {},
   "outputs": [],
   "source": []
  }
 ],
 "metadata": {
  "kernelspec": {
   "display_name": "Python 3 (ipykernel)",
   "language": "python",
   "name": "python3"
  },
  "language_info": {
   "codemirror_mode": {
    "name": "ipython",
    "version": 3
   },
   "file_extension": ".py",
   "mimetype": "text/x-python",
   "name": "python",
   "nbconvert_exporter": "python",
   "pygments_lexer": "ipython3",
   "version": "3.10.13"
  }
 },
 "nbformat": 4,
 "nbformat_minor": 5
}
