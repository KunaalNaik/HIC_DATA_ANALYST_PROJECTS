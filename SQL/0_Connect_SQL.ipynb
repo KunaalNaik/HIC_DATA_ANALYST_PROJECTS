{
 "cells": [
  {
   "cell_type": "code",
   "execution_count": null,
   "id": "3193f099-fa15-470b-8732-12c86d147262",
   "metadata": {},
   "outputs": [],
   "source": [
    "!conda install -c anaconda mysql-connector-python"
   ]
  },
  {
   "cell_type": "code",
   "execution_count": null,
   "id": "a060cdf5-1bb4-4668-9daf-6f749103d9b4",
   "metadata": {},
   "outputs": [],
   "source": [
    "import mysql.connector\n",
    "from mysql.connector import Error"
   ]
  },
  {
   "cell_type": "code",
   "execution_count": null,
   "id": "a7ec7a71-2dfa-4cea-a88d-2dea14da1265",
   "metadata": {},
   "outputs": [],
   "source": [
    "try:\n",
    "    # Set up the connection\n",
    "    connection = mysql.connector.connect(\n",
    "        host='localhost',  # Use '127.0.0.1' if 'localhost' doesn't work\n",
    "        user='your_username',\n",
    "        password='your_password',\n",
    "        database='your_database_name'  # Optional if you want to connect to a specific database\n",
    "    )\n",
    "\n",
    "    # Check if connection is successful\n",
    "    if connection.is_connected():\n",
    "        print(\"Connected to MySQL database\")\n",
    "\n",
    "except Error as e:\n",
    "    print(\"Error while connecting to MySQL\", e)\n",
    "\n",
    "finally:\n",
    "    # Close the connection if it was opened\n",
    "    if connection.is_connected():\n",
    "        connection.close()\n",
    "        print(\"MySQL connection is closed\")"
   ]
  },
  {
   "cell_type": "code",
   "execution_count": null,
   "id": "fee6215c-c59f-4d0d-9031-905b0a2d2e59",
   "metadata": {},
   "outputs": [],
   "source": []
  }
 ],
 "metadata": {
  "kernelspec": {
   "display_name": "Python 3 (ipykernel)",
   "language": "python",
   "name": "python3"
  },
  "language_info": {
   "codemirror_mode": {
    "name": "ipython",
    "version": 3
   },
   "file_extension": ".py",
   "mimetype": "text/x-python",
   "name": "python",
   "nbconvert_exporter": "python",
   "pygments_lexer": "ipython3",
   "version": "3.10.13"
  }
 },
 "nbformat": 4,
 "nbformat_minor": 5
}
