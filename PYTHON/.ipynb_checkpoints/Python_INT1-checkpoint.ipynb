{
 "cells": [
  {
   "cell_type": "code",
   "execution_count": 1,
   "id": "44052068-f75c-4e95-8dbc-b3e1369a55b6",
   "metadata": {},
   "outputs": [
    {
     "data": {
      "text/plain": [
       "True"
      ]
     },
     "execution_count": 1,
     "metadata": {},
     "output_type": "execute_result"
    }
   ],
   "source": [
    "# --- Write your code into below function ---\n",
    "\n",
    "def check_palindrome(word):\n",
    "    \n",
    "    # --- WRITE YOUR CODE FOR TASK 1 ---\n",
    "    \n",
    "    word = word.lower()\n",
    "    is_palindrome = word == word[::-1]\n",
    "    \n",
    "    return is_palindrome\n",
    "\n",
    "# Example usage\n",
    "check_palindrome(\"Radar\")"
   ]
  },
  {
   "cell_type": "code",
   "execution_count": 3,
   "id": "fc4aded6-4024-48a9-a073-6e192f89bce3",
   "metadata": {},
   "outputs": [
    {
     "data": {
      "text/plain": [
       "2"
      ]
     },
     "execution_count": 3,
     "metadata": {},
     "output_type": "execute_result"
    }
   ],
   "source": [
    "# --- Write your code into below function ---\n",
    "\n",
    "def count_vowels(text):\n",
    "    # --- WRITE YOUR CODE FOR TASK 1 ---\n",
    "    \n",
    "    vowels = \"aeiou\"\n",
    "    vowel_count = sum(1 for char in text.lower() if char in vowels)\n",
    "    \n",
    "    return vowel_count\n",
    "\n",
    "# Example usage\n",
    "count_vowels(\"aa\")"
   ]
  },
  {
   "cell_type": "code",
   "execution_count": 5,
   "id": "f877a165-cb80-46f2-80a1-b0c31168d7eb",
   "metadata": {},
   "outputs": [
    {
     "data": {
      "text/plain": [
       "(-1, 25)"
      ]
     },
     "execution_count": 5,
     "metadata": {},
     "output_type": "execute_result"
    }
   ],
   "source": [
    "# --- Write your code into below function ---\n",
    "\n",
    "def find_min_max(temperatures):\n",
    "    \n",
    "    # --- WRITE YOUR CODE FOR TASK 1 ---\n",
    "    \n",
    "    min_temp = min(temperatures)\n",
    "    max_temp = max(temperatures)\n",
    "    \n",
    "    return min_temp, max_temp\n",
    "\n",
    "# Example usage\n",
    "find_min_max([-1, 25, 15])"
   ]
  },
  {
   "cell_type": "code",
   "execution_count": 7,
   "id": "b7ebfa20-f17b-478e-8b8a-b2bdd2518dc5",
   "metadata": {},
   "outputs": [
    {
     "data": {
      "text/plain": [
       "9.5"
      ]
     },
     "execution_count": 7,
     "metadata": {},
     "output_type": "execute_result"
    }
   ],
   "source": [
    "# --- Write your code into below function ---\n",
    "\n",
    "def calculate_average(scores):\n",
    "    \n",
    "    # --- WRITE YOUR CODE FOR TASK 2 ---\n",
    "    \n",
    "    total = sum(scores)\n",
    "    average_score = total / len(scores)\n",
    "    \n",
    "    return average_score\n",
    "\n",
    "# Example usage\n",
    "calculate_average([12, 15, 5, 6])"
   ]
  },
  {
   "cell_type": "code",
   "execution_count": 9,
   "id": "15f2aab8-3a5b-42e5-9cf1-53d93e6e49fd",
   "metadata": {},
   "outputs": [
    {
     "data": {
      "text/plain": [
       "[5]"
      ]
     },
     "execution_count": 9,
     "metadata": {},
     "output_type": "execute_result"
    }
   ],
   "source": [
    "# --- Write your code into below function ---\n",
    "\n",
    "def find_primes(start, end):\n",
    "    \n",
    "    # --- WRITE YOUR CODE FOR TASK 1 ---\n",
    "    \n",
    "    primes = []\n",
    "    for num in range(start, end + 1):\n",
    "        if num > 1 and all(num % i != 0 for i in range(2, int(num**0.5) + 1)):\n",
    "            primes.append(num)\n",
    "    \n",
    "    return primes\n",
    "\n",
    "# Example usage\n",
    "find_primes(4, 6)"
   ]
  },
  {
   "cell_type": "code",
   "execution_count": 11,
   "id": "cbe1f579-5aa9-43f4-a095-084c5580d1db",
   "metadata": {},
   "outputs": [
    {
     "data": {
      "text/plain": [
       "[('Taylor', 20), ('Steve', 12)]"
      ]
     },
     "execution_count": 11,
     "metadata": {},
     "output_type": "execute_result"
    }
   ],
   "source": [
    "# --- Write your code into below function ---\n",
    "\n",
    "def sort_grades(grades):\n",
    "    \n",
    "    # --- WRITE YOUR CODE FOR TASK 2 ---\n",
    "    \n",
    "    sorted_grades = sorted(grades.items(), key=lambda x: x[1], reverse=True)\n",
    "    \n",
    "    return sorted_grades\n",
    "\n",
    "# Example usage\n",
    "sort_grades({\"Steve\": 12, \"Taylor\": 20})\n",
    "#Output: [('Taylor', 20), ('Steve', 12)]"
   ]
  },
  {
   "cell_type": "code",
   "execution_count": 13,
   "id": "6fa52eaa-ecc8-46ea-8d32-3f2e556d6ec8",
   "metadata": {},
   "outputs": [
    {
     "data": {
      "text/plain": [
       "50.0"
      ]
     },
     "execution_count": 13,
     "metadata": {},
     "output_type": "execute_result"
    }
   ],
   "source": [
    "# --- Write your code into below function ---\n",
    "\n",
    "def celsius_to_fahrenheit(celsius):\n",
    "    \n",
    "    # --- WRITE YOUR CODE FOR TASK 1 ---\n",
    "    \n",
    "    fahrenheit_temp = (celsius * 9/5) + 32\n",
    "    \n",
    "    return fahrenheit_temp\n",
    "\n",
    "# Example usage\n",
    "celsius_to_fahrenheit(10)"
   ]
  },
  {
   "cell_type": "code",
   "execution_count": 15,
   "id": "762ec2e2-61e3-4f9e-98f5-5eb59deeb6d1",
   "metadata": {},
   "outputs": [
    {
     "data": {
      "text/plain": [
       "104.03999999999999"
      ]
     },
     "execution_count": 15,
     "metadata": {},
     "output_type": "execute_result"
    }
   ],
   "source": [
    "# --- Write your code into below function ---\n",
    "\n",
    "def calculate_compound_interest(principal, rate, time):\n",
    "    \n",
    "    # --- WRITE YOUR CODE FOR TASK 2 ---\n",
    "    \n",
    "    compound_interest = principal * (1 + rate / 100) ** time\n",
    "    \n",
    "    return compound_interest\n",
    "\n",
    "# Example usage\n",
    "calculate_compound_interest(100, 2, 2)"
   ]
  },
  {
   "cell_type": "code",
   "execution_count": 17,
   "id": "ff6e9159-4a04-4021-b0ed-0086055e438a",
   "metadata": {},
   "outputs": [
    {
     "data": {
      "text/plain": [
       "6"
      ]
     },
     "execution_count": 17,
     "metadata": {},
     "output_type": "execute_result"
    }
   ],
   "source": [
    "# --- Write your code into below function ---\n",
    "\n",
    "def factorial(n):\n",
    "    \n",
    "    # --- WRITE YOUR CODE FOR TASK 1 ---\n",
    "    \n",
    "    result_factorial = 1\n",
    "    for i in range(1, n + 1):\n",
    "        result_factorial *= i\n",
    "        \n",
    "    return result_factorial\n",
    "\n",
    "# Example usage\n",
    "factorial(3)"
   ]
  },
  {
   "cell_type": "code",
   "execution_count": 19,
   "id": "399ac472-84cf-460a-a4e0-e75be4f906c0",
   "metadata": {},
   "outputs": [
    {
     "data": {
      "text/plain": [
       "[0, 1, 1, 2, 3]"
      ]
     },
     "execution_count": 19,
     "metadata": {},
     "output_type": "execute_result"
    }
   ],
   "source": [
    "# --- Write your code into below function ---\n",
    "\n",
    "def fibonacci(n):\n",
    "    \n",
    "    # --- WRITE YOUR CODE FOR TASK 5 ---\n",
    "    \n",
    "    fibonacci_series = [0, 1]\n",
    "    for i in range(2, n):\n",
    "        next_term = fibonacci_series[i - 1] + fibonacci_series[i - 2]\n",
    "        fibonacci_series.append(next_term)\n",
    "        \n",
    "    return fibonacci_series[:n]\n",
    "\n",
    "# Example usage\n",
    "fibonacci(5)"
   ]
  },
  {
   "cell_type": "code",
   "execution_count": null,
   "id": "419e0ca3-ce70-4f07-b42c-1dc8bc0ad56a",
   "metadata": {},
   "outputs": [],
   "source": []
  }
 ],
 "metadata": {
  "kernelspec": {
   "display_name": "Python 3 (ipykernel)",
   "language": "python",
   "name": "python3"
  },
  "language_info": {
   "codemirror_mode": {
    "name": "ipython",
    "version": 3
   },
   "file_extension": ".py",
   "mimetype": "text/x-python",
   "name": "python",
   "nbconvert_exporter": "python",
   "pygments_lexer": "ipython3",
   "version": "3.10.13"
  }
 },
 "nbformat": 4,
 "nbformat_minor": 5
}
