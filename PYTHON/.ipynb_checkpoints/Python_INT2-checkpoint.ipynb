{
 "cells": [
  {
   "cell_type": "code",
   "execution_count": 2,
   "id": "94334b6c-1728-470f-98a3-3830fe4e2c3a",
   "metadata": {},
   "outputs": [
    {
     "data": {
      "text/plain": [
       "'example.com'"
      ]
     },
     "execution_count": 2,
     "metadata": {},
     "output_type": "execute_result"
    }
   ],
   "source": [
    "def get_email_domain(email):\n",
    "    \n",
    "    # --- WRITE YOUR CODE FOR TASK 1 ---\n",
    "    \n",
    "    email_domain = email.split(\"@\")[1]\n",
    "    \n",
    "    return email_domain\n",
    "\n",
    "# Example usage\n",
    "get_email_domain(\"user@example.com\")"
   ]
  },
  {
   "cell_type": "code",
   "execution_count": 4,
   "id": "963a53cd-a7fe-4cc6-bf4d-c1326c8707cd",
   "metadata": {},
   "outputs": [
    {
     "data": {
      "text/plain": [
       "2.915"
      ]
     },
     "execution_count": 4,
     "metadata": {},
     "output_type": "execute_result"
    }
   ],
   "source": [
    "def calculate_tax(price):\n",
    "    \n",
    "    # --- WRITE YOUR CODE FOR TASK 2 ---\n",
    "    \n",
    "    numeric_price = float(price.replace(\"$\", \"\"))\n",
    "    tax = numeric_price * 0.10\n",
    "    total_amount = numeric_price + tax\n",
    "    return total_amount\n",
    "\n",
    "# Example usage\n",
    "calculate_tax(\"$2.65\")"
   ]
  },
  {
   "cell_type": "code",
   "execution_count": 6,
   "id": "22d1cf6a-244c-4833-b5df-1f72b0a0450b",
   "metadata": {},
   "outputs": [
    {
     "data": {
      "text/plain": [
       "3"
      ]
     },
     "execution_count": 6,
     "metadata": {},
     "output_type": "execute_result"
    }
   ],
   "source": [
    "def update_stock(current_stock, sold_quantity):\n",
    "    \n",
    "    # --- WRITE YOUR CODE FOR TASK 1 ---\n",
    "    \n",
    "    remaining_stock = current_stock - sold_quantity\n",
    "    return remaining_stock\n",
    "\n",
    "# Example usage\n",
    "update_stock(5, 2)"
   ]
  },
  {
   "cell_type": "code",
   "execution_count": 8,
   "id": "9c1044c7-f2ed-44ab-95bf-c5d49e07729a",
   "metadata": {},
   "outputs": [
    {
     "data": {
      "text/plain": [
       "75"
      ]
     },
     "execution_count": 8,
     "metadata": {},
     "output_type": "execute_result"
    }
   ],
   "source": [
    "def calculate_weekly_wage(hours_worked, hourly_rate):\n",
    "    \n",
    "    # --- WRITE YOUR CODE FOR TASK 2 ---\n",
    "    \n",
    "    weekly_wages = hours_worked * hourly_rate\n",
    "    return weekly_wages\n",
    "\n",
    "# Example usage\n",
    "calculate_weekly_wage(5, 15)"
   ]
  },
  {
   "cell_type": "code",
   "execution_count": 10,
   "id": "cb59ed8d-c8ae-4064-a7ac-42012fa843c6",
   "metadata": {},
   "outputs": [
    {
     "data": {
      "text/plain": [
       "54.42176870748299"
      ]
     },
     "execution_count": 10,
     "metadata": {},
     "output_type": "execute_result"
    }
   ],
   "source": [
    "def calculate_bmi(weight, height):\n",
    "    \n",
    "    # --- WRITE YOUR CODE FOR TASK 1 ---\n",
    "    \n",
    "    bmi_value = weight / (height ** 2)\n",
    "    return bmi_value\n",
    "\n",
    "# Example usage\n",
    "calculate_bmi(60, 1.05)"
   ]
  },
  {
   "cell_type": "code",
   "execution_count": 12,
   "id": "cba58f68-f7e0-4573-bcf2-63936ba9910d",
   "metadata": {},
   "outputs": [
    {
     "data": {
      "text/plain": [
       "(5, 56)"
      ]
     },
     "execution_count": 12,
     "metadata": {},
     "output_type": "execute_result"
    }
   ],
   "source": [
    "def convert_minutes(total_minutes):\n",
    "    \n",
    "    # --- WRITE YOUR CODE FOR TASK 2 ---\n",
    "    \n",
    "    hours = total_minutes // 60\n",
    "    minutes = total_minutes % 60\n",
    "    time_conversion = (hours, minutes)\n",
    "    return time_conversion\n",
    "\n",
    "# Example usage\n",
    "convert_minutes(356)"
   ]
  },
  {
   "cell_type": "code",
   "execution_count": 14,
   "id": "83c9d350-a50b-49b3-9a12-d7ae46fe0fa7",
   "metadata": {},
   "outputs": [
    {
     "data": {
      "text/plain": [
       "17.6"
      ]
     },
     "execution_count": 14,
     "metadata": {},
     "output_type": "execute_result"
    }
   ],
   "source": [
    "def apply_discount(purchase_amount, user_type):\n",
    "    \n",
    "    # --- WRITE YOUR CODE FOR TASK 1 ---\n",
    "    \n",
    "    if user_type == \"premium\":\n",
    "        discount = purchase_amount * 0.20\n",
    "    else:\n",
    "        discount = purchase_amount * 0.10\n",
    "    final_price = purchase_amount - discount\n",
    "    return final_price\n",
    "\n",
    "# Example usage\n",
    "apply_discount(22, \"premium\")"
   ]
  },
  {
   "cell_type": "code",
   "execution_count": 16,
   "id": "ddb0a3fc-3ba9-4e75-a446-9de094b58c86",
   "metadata": {},
   "outputs": [
    {
     "data": {
      "text/plain": [
       "False"
      ]
     },
     "execution_count": 16,
     "metadata": {},
     "output_type": "execute_result"
    }
   ],
   "source": [
    "def check_loan_eligibility(age, annual_salary):\n",
    "    \n",
    "    # --- WRITE YOUR CODE FOR TASK 2 ---\n",
    "    \n",
    "    is_eligible = age >= 21 and annual_salary > 30000\n",
    "    return is_eligible\n",
    "\n",
    "# Example usage\n",
    "check_loan_eligibility(18, 15000)"
   ]
  },
  {
   "cell_type": "code",
   "execution_count": 18,
   "id": "126088ec-d1ec-4ad3-ab68-0634e901d58b",
   "metadata": {},
   "outputs": [
    {
     "data": {
      "text/plain": [
       "['#Python']"
      ]
     },
     "execution_count": 18,
     "metadata": {},
     "output_type": "execute_result"
    }
   ],
   "source": [
    "def extract_hashtags(post):\n",
    "    \n",
    "    # --- WRITE YOUR CODE FOR TASK 1 ---\n",
    "    \n",
    "    words = post.split()\n",
    "    hashtags_list = [word for word in words if word.startswith(\"#\")]\n",
    "    return hashtags_list\n",
    "\n",
    "# Example usage\n",
    "extract_hashtags(\"I am learning #Python\")"
   ]
  },
  {
   "cell_type": "code",
   "execution_count": 20,
   "id": "0a3627a6-8dd3-4d0b-b055-181105455876",
   "metadata": {},
   "outputs": [
    {
     "data": {
      "text/plain": [
       "'I Love Programming'"
      ]
     },
     "execution_count": 20,
     "metadata": {},
     "output_type": "execute_result"
    }
   ],
   "source": [
    "def to_title_case(text):\n",
    "    \n",
    "    # --- WRITE YOUR CODE FOR TASK 2 ---\n",
    "    \n",
    "    formatted_text = text.title()\n",
    "    return formatted_text\n",
    "\n",
    "# Example usage\n",
    "to_title_case(\"I love programming\")"
   ]
  }
 ],
 "metadata": {
  "kernelspec": {
   "display_name": "Python 3 (ipykernel)",
   "language": "python",
   "name": "python3"
  },
  "language_info": {
   "codemirror_mode": {
    "name": "ipython",
    "version": 3
   },
   "file_extension": ".py",
   "mimetype": "text/x-python",
   "name": "python",
   "nbconvert_exporter": "python",
   "pygments_lexer": "ipython3",
   "version": "3.10.13"
  }
 },
 "nbformat": 4,
 "nbformat_minor": 5
}
