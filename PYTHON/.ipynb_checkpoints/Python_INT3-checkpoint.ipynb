{
 "cells": [
  {
   "cell_type": "code",
   "execution_count": 6,
   "id": "a7610b49-a8aa-4898-b085-dac0489ac5c9",
   "metadata": {},
   "outputs": [
    {
     "data": {
      "text/plain": [
       "[]"
      ]
     },
     "execution_count": 6,
     "metadata": {},
     "output_type": "execute_result"
    }
   ],
   "source": [
    "def countdown_timer(start):\n",
    "    \n",
    "    # --- WRITE YOUR CODE FOR TASK 1 ---\n",
    "    \n",
    "    countdown_completed = []\n",
    "    while start >= 0:\n",
    "        countdown_completed.append(start)\n",
    "        start -= 1\n",
    "    return countdown_completed\n",
    "\n",
    "# Example usage\n",
    "countdown_timer(-2)"
   ]
  },
  {
   "cell_type": "code",
   "execution_count": 8,
   "id": "ffa881da-2401-43ea-b45b-5fba6db852ad",
   "metadata": {},
   "outputs": [
    {
     "data": {
      "text/plain": [
       "True"
      ]
     },
     "execution_count": 8,
     "metadata": {},
     "output_type": "execute_result"
    }
   ],
   "source": [
    "def password_retry(correct_password, max_attempts=3):\n",
    "    \n",
    "    # --- WRITE YOUR CODE FOR TASK 2 ---\n",
    "    entered_password = \"user@123\"  # Placeholder for testing\n",
    "    \n",
    "    attempts = 0\n",
    "    login_status = False\n",
    "    while attempts < max_attempts:\n",
    "        attempts += 1\n",
    "        # Replace 'user_try' with input for actual use\n",
    "        if entered_password == correct_password:\n",
    "            login_status = True\n",
    "            break\n",
    "    return login_status\n",
    "\n",
    "# Example usage\n",
    "password_retry(\"user@123\")"
   ]
  },
  {
   "cell_type": "code",
   "execution_count": 10,
   "id": "996ddd8d-c1e6-4ea5-bca1-c71e07ad8de2",
   "metadata": {},
   "outputs": [
    {
     "data": {
      "text/plain": [
       "[[1, 2], [2, 4]]"
      ]
     },
     "execution_count": 10,
     "metadata": {},
     "output_type": "execute_result"
    }
   ],
   "source": [
    "def generate_multiplication_table(n):\n",
    "    \n",
    "    # --- WRITE YOUR CODE FOR TASK 1 ---\n",
    "    \n",
    "    multiplication_table = []\n",
    "    for i in range(1, n + 1):\n",
    "        row = []\n",
    "        for j in range(1, n + 1):\n",
    "            row.append(i * j)\n",
    "        multiplication_table.append(row)\n",
    "    return multiplication_table\n",
    "\n",
    "# Example usage\n",
    "generate_multiplication_table(2)"
   ]
  },
  {
   "cell_type": "code",
   "execution_count": 12,
   "id": "02310478-eea9-4978-8507-1f9e64456bae",
   "metadata": {},
   "outputs": [
    {
     "data": {
      "text/plain": [
       "[' *', '**']"
      ]
     },
     "execution_count": 12,
     "metadata": {},
     "output_type": "execute_result"
    }
   ],
   "source": [
    "def generate_star_pattern(n):\n",
    "    \n",
    "    # --- WRITE YOUR CODE FOR TASK 2 ---\n",
    "    \n",
    "    star_pattern = []\n",
    "    for i in range(1, n + 1):\n",
    "        row = \" \" * (n - i) + \"*\" * i\n",
    "        star_pattern.append(row)\n",
    "    return star_pattern\n",
    "\n",
    "# Example usage\n",
    "generate_star_pattern(2)"
   ]
  },
  {
   "cell_type": "code",
   "execution_count": 14,
   "id": "bcc4e94a-b48b-436a-8014-21a7349c08b2",
   "metadata": {},
   "outputs": [
    {
     "data": {
      "text/plain": [
       "11"
      ]
     },
     "execution_count": 14,
     "metadata": {},
     "output_type": "execute_result"
    }
   ],
   "source": [
    "def find_first_prime(start, end):\n",
    "    \n",
    "    # --- WRITE YOUR CODE FOR TASK 1 ---\n",
    "    \n",
    "    first_prime = None\n",
    "    for num in range(start, end + 1):\n",
    "        if num > 1 and all(num % i != 0 for i in range(2, int(num**0.5) + 1)):\n",
    "            first_prime = num\n",
    "            break\n",
    "    return first_prime\n",
    "\n",
    "# Example usage\n",
    "find_first_prime(10, 15)"
   ]
  },
  {
   "cell_type": "code",
   "execution_count": 16,
   "id": "3f08e59e-bd2c-4f27-a44b-f332c43a65c2",
   "metadata": {},
   "outputs": [
    {
     "data": {
      "text/plain": [
       "[2, 4]"
      ]
     },
     "execution_count": 16,
     "metadata": {},
     "output_type": "execute_result"
    }
   ],
   "source": [
    "def filter_even_numbers(numbers):\n",
    "    \n",
    "    # --- WRITE YOUR CODE FOR TASK 2 ---\n",
    "    \n",
    "    even_numbers_only = []\n",
    "    for num in numbers:\n",
    "        if num % 2 != 0:\n",
    "            continue\n",
    "        even_numbers_only.append(num)\n",
    "    return even_numbers_only\n",
    "\n",
    "# Example usage\n",
    "filter_even_numbers([1,2,3,4])"
   ]
  },
  {
   "cell_type": "code",
   "execution_count": 18,
   "id": "a5b1a891-11bb-4078-a22f-cea8955a4542",
   "metadata": {},
   "outputs": [
    {
     "data": {
      "text/plain": [
       "60.0"
      ]
     },
     "execution_count": 18,
     "metadata": {},
     "output_type": "execute_result"
    }
   ],
   "source": [
    "def calculate_simple_interest(principal, rate, time):\n",
    "    \n",
    "    # --- WRITE YOUR CODE FOR TASK 1 ---\n",
    "    \n",
    "    simple_interest = (principal * rate * time) / 100\n",
    "    return simple_interest\n",
    "\n",
    "# Example usage\n",
    "calculate_simple_interest(1000, 2, 3)"
   ]
  },
  {
   "cell_type": "code",
   "execution_count": 20,
   "id": "ea836348-6b5f-4743-8700-a9d5c063b6b6",
   "metadata": {},
   "outputs": [
    {
     "data": {
      "text/plain": [
       "50"
      ]
     },
     "execution_count": 20,
     "metadata": {},
     "output_type": "execute_result"
    }
   ],
   "source": [
    "def calculate_distance(speed, time):\n",
    "    \n",
    "    # --- WRITE YOUR CODE FOR TASK 2 ---\n",
    "    \n",
    "    calculated_distance = speed * time\n",
    "    return calculated_distance\n",
    "\n",
    "# Example usage\n",
    "calculate_distance(25, 2)"
   ]
  },
  {
   "cell_type": "code",
   "execution_count": 22,
   "id": "3f4b5f93-d2b5-4a4e-8c7c-1ad0171f89c0",
   "metadata": {},
   "outputs": [
    {
     "data": {
      "text/plain": [
       "(6, 0)"
      ]
     },
     "execution_count": 22,
     "metadata": {},
     "output_type": "execute_result"
    }
   ],
   "source": [
    "def find_score_extremes(scores):\n",
    "    \n",
    "    # --- WRITE YOUR CODE FOR TASK 1 ---\n",
    "    \n",
    "    highest = max(scores)\n",
    "    lowest = min(scores)\n",
    "    score_extremes = (highest, lowest)\n",
    "    return score_extremes\n",
    "\n",
    "# Example usage\n",
    "find_score_extremes([1, 2, 5, 6, 0])"
   ]
  },
  {
   "cell_type": "code",
   "execution_count": 24,
   "id": "003c6e14-25bd-46d8-97b1-55f80b5187ba",
   "metadata": {},
   "outputs": [
    {
     "data": {
      "text/plain": [
       "62.333333333333336"
      ]
     },
     "execution_count": 24,
     "metadata": {},
     "output_type": "execute_result"
    }
   ],
   "source": [
    "def calculate_average_grade(grades):\n",
    "    \n",
    "    # --- WRITE YOUR CODE FOR TASK 2 ---\n",
    "    \n",
    "    total = sum(grades)\n",
    "    average_grade = total / len(grades)\n",
    "    return average_grade\n",
    "\n",
    "# Example usage\n",
    "calculate_average_grade([66, 66, 55])"
   ]
  },
  {
   "cell_type": "code",
   "execution_count": 26,
   "id": "6920656c-d4df-4597-a313-13f2069fdced",
   "metadata": {},
   "outputs": [
    {
     "data": {
      "text/plain": [
       "2"
      ]
     },
     "execution_count": 26,
     "metadata": {},
     "output_type": "execute_result"
    }
   ],
   "source": [
    "def factorial(n):\n",
    "    \n",
    "    # --- WRITE YOUR CODE FOR TASK 1 ---\n",
    "    \n",
    "    factorial_result = 1\n",
    "    for i in range(1, n + 1):\n",
    "        factorial_result *= i\n",
    "    return factorial_result\n",
    "\n",
    "# Example usage\n",
    "factorial(2)"
   ]
  },
  {
   "cell_type": "code",
   "execution_count": 28,
   "id": "af38c705-2aab-49f5-b90c-840ef2df7c0c",
   "metadata": {},
   "outputs": [
    {
     "data": {
      "text/plain": [
       "292"
      ]
     },
     "execution_count": 28,
     "metadata": {},
     "output_type": "execute_result"
    }
   ],
   "source": [
    "def sum_even_numbers(start, end):\n",
    "    \n",
    "    # --- WRITE YOUR CODE FOR TASK 2 ---\n",
    "    \n",
    "    even_sum = 0\n",
    "    for i in range(start, end + 1):\n",
    "        if i % 2 == 0:\n",
    "            even_sum += i\n",
    "    return even_sum\n",
    "\n",
    "# Example usage\n",
    "sum_even_numbers(69, 76)"
   ]
  }
 ],
 "metadata": {
  "kernelspec": {
   "display_name": "Python 3 (ipykernel)",
   "language": "python",
   "name": "python3"
  },
  "language_info": {
   "codemirror_mode": {
    "name": "ipython",
    "version": 3
   },
   "file_extension": ".py",
   "mimetype": "text/x-python",
   "name": "python",
   "nbconvert_exporter": "python",
   "pygments_lexer": "ipython3",
   "version": "3.10.13"
  }
 },
 "nbformat": 4,
 "nbformat_minor": 5
}
